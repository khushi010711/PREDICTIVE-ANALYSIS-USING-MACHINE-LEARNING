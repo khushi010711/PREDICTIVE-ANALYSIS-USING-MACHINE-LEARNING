import dash
from dash import dcc, html, Input, Output
import pandas as pd
import numpy as np
import plotly.express as px
from datetime import datetime, timedelta

# Simulate website activity dataset
np.random.seed(42)
n_rows = 100_000
users = [f'user_{i}' for i in range(1, 51)]
pages = ['home', 'products', 'cart', 'checkout', 'profile', 'support']
start_time = datetime(2024, 1, 1)

df = pd.DataFrame({
    'user_id': np.random.choice(users, n_rows),
    'page': np.random.choice(pages, n_rows),
    'duration': np.random.exponential(scale=60, size=n_rows),  # seconds
    'timestamp': [start_time + timedelta(seconds=int(i)) for i in np.random.randint(0, 10**6, n_rows)]  # Convert to int
})


# Start Dash app
app = dash.Dash(__name__)
app.title = "User Activity Dashboard"

# Layout
app.layout = html.Div([
    html.H1("Interactive User Activity Dashboard"),

    dcc.Dropdown(
        id='user-dropdown',
        options=[{'label': u, 'value': u} for u in sorted(df['user_id'].unique())],
        value='user_1',
        clearable=False
    ),

    html.Div([
        dcc.Graph(id='time-by-page'),
        dcc.Graph(id='user-duration'),
    ], style={'display': 'flex', 'gap': '2rem'}),

    dcc.Graph(id='session-histogram')
])

# Callbacks
@app.callback(
    Output('time-by-page', 'figure'),
    Output('user-duration', 'figure'),
    Output('session-histogram', 'figure'),
    Input('user-dropdown', 'value')
)
def update_dashboard(selected_user):
    # Total time by page
    total_time = df.groupby('page')['duration'].sum().reset_index()
    fig1 = px.bar(total_time, x='page', y='duration', title='Total Time per Page (All Users)')

    # Avg session duration by page for selected user
    user_df = df[df['user_id'] == selected_user]
    user_avg = user_df.groupby('page')['duration'].mean().reset_index()
    fig2 = px.bar(user_avg, x='page', y='duration', title=f'Avg Session Duration - {selected_user}')

    # Histogram of all session durations
    fig3 = px.histogram(df, x='duration', nbins=50, title='Session Duration Distribution')

    return fig1, fig2, fig3

# Run the app
if __name__ == '__main__':
    app.run(debug=True)
